{
 "cells": [
  {
   "cell_type": "code",
   "execution_count": 5,
   "id": "57d1a11b-3707-44bf-9649-7afd52aa4da7",
   "metadata": {},
   "outputs": [
    {
     "name": "stdout",
     "output_type": "stream",
     "text": [
      "1\n",
      "2\n",
      "3\n",
      "4\n",
      "5\n",
      "6\n",
      "7\n",
      "8\n",
      "9\n",
      "10\n"
     ]
    }
   ],
   "source": [
    "#1. Write a Python program to print the numbers from 1 to 10 using a `for` loop.\n",
    "for i in range(1,11):\n",
    "    print(i)"
   ]
  },
  {
   "cell_type": "code",
   "execution_count": 12,
   "id": "75a81b7f-98b2-47e7-b250-bfb7324e2671",
   "metadata": {},
   "outputs": [
    {
     "name": "stdout",
     "output_type": "stream",
     "text": [
      "The sum of all num in list is  45\n"
     ]
    }
   ],
   "source": [
    "#2. Create a program that calculates the sum of all numbers in a list using a `for` loop.\n",
    "list1 = [1,2,3,4,5,6,7,8,9]\n",
    "add = 0\n",
    "for i in list1:\n",
    "    add = add+i\n",
    "print(\"The sum of all num in list is \",add)\n",
    "    \n",
    "    "
   ]
  },
  {
   "cell_type": "code",
   "execution_count": 27,
   "id": "d1e6773b-4b42-4bfd-be6c-e177651de706",
   "metadata": {},
   "outputs": [
    {
     "name": "stdout",
     "output_type": "stream",
     "text": [
      "nahk namzA"
     ]
    }
   ],
   "source": [
    "#3. Write a program to print the characters of a string in reverse order using a `for` loop.\n",
    "string = \"Azman khan\"\n",
    "# Iterate through the characters of the input string in reverse order\n",
    "for i in string[::-1]:\n",
    "    print(i ,end=\"\")\n",
    "    \n",
    "    "
   ]
  },
  {
   "cell_type": "code",
   "execution_count": 37,
   "id": "d8294b75-e848-4711-b252-f4b8e7a7b783",
   "metadata": {},
   "outputs": [
    {
     "name": "stdin",
     "output_type": "stream",
     "text": [
      "enter a number 5\n"
     ]
    },
    {
     "name": "stdout",
     "output_type": "stream",
     "text": [
      "the factorial of the  5 is 120\n"
     ]
    }
   ],
   "source": [
    "#4. Develop a program that finds the factorial of a given number using a `for` loop.\n",
    "number = int(input(\"enter a number\"))\n",
    "factorial = 1\n",
    "for i in range(1,number+1):\n",
    "    factorial = factorial*i\n",
    "print(\"the factorial of the \",number,\"is\",factorial)"
   ]
  },
  {
   "cell_type": "code",
   "execution_count": 48,
   "id": "b844c1f4-3cf7-4a6d-8f76-54ac35b8acc2",
   "metadata": {},
   "outputs": [
    {
     "name": "stdin",
     "output_type": "stream",
     "text": [
      "enter a number 10\n"
     ]
    },
    {
     "name": "stdout",
     "output_type": "stream",
     "text": [
      "10 X 1 = 10\n",
      "10 X 2 = 20\n",
      "10 X 3 = 30\n",
      "10 X 4 = 40\n",
      "10 X 5 = 50\n",
      "10 X 6 = 60\n",
      "10 X 7 = 70\n",
      "10 X 8 = 80\n",
      "10 X 9 = 90\n",
      "10 X 10 = 100\n"
     ]
    }
   ],
   "source": [
    "#5. Create a program to print the multiplication table of a given number using a `for` loop.\n",
    "number = int(input(\"enter a number\"))\n",
    "\n",
    "product = 0\n",
    "for i in range(1,11):\n",
    "    product = number*i\n",
    "    \n",
    "    print (f\"{number} X {i} = {product}\")\n",
    "    \n",
    "    \n",
    "    "
   ]
  },
  {
   "cell_type": "code",
   "execution_count": 61,
   "id": "5084b3ad-b3ed-4968-9711-799947d60812",
   "metadata": {},
   "outputs": [
    {
     "name": "stdout",
     "output_type": "stream",
     "text": [
      "the count of even number is 8 and the count of odd number is 15\n"
     ]
    }
   ],
   "source": [
    "#6. Write a program that counts the number of even and odd numbers in a list using a `for` loop.\n",
    "list1 = [1,2,3,4,5,6,7,8,9,10,11,12,13,14,16,17,11,1,1,1,1,1,1]\n",
    "count =0\n",
    "count1 =0\n",
    "for i in list1:\n",
    "    if i%2 == 0:\n",
    "        count+=1\n",
    "#for printing odd num\n",
    "    if i%2 !=0:\n",
    "        count1+=1\n",
    "print(f\"the count of even number is {count} and the count of odd number is {count1}\")"
   ]
  },
  {
   "cell_type": "code",
   "execution_count": 72,
   "id": "9e805112-af91-44c8-81ec-e42c95a61971",
   "metadata": {},
   "outputs": [
    {
     "name": "stdout",
     "output_type": "stream",
     "text": [
      "the square of  1 is 1\n",
      "the square of  2 is 4\n",
      "the square of  3 is 9\n",
      "the square of  4 is 16\n",
      "the square of  5 is 25\n"
     ]
    }
   ],
   "source": [
    "#7. Develop a program that prints the squares of numbers from 1 to 5 using a `for` loop.\n",
    "for i in range (1,6):\n",
    "    square = i**2\n",
    "    print(\"the square of \",i ,\"is\",square )\n",
    "    "
   ]
  },
  {
   "cell_type": "code",
   "execution_count": 74,
   "id": "1098031d-5bf4-4db3-a5f0-f03efc6ba5f6",
   "metadata": {},
   "outputs": [
    {
     "name": "stdout",
     "output_type": "stream",
     "text": [
      "The length of the string is  8\n"
     ]
    }
   ],
   "source": [
    "#8. Create a program to find the length of a string without using the `len()` function.\n",
    "string = \"pwskills\"\n",
    "count = 0\n",
    "for i in string :\n",
    "    count =count+1\n",
    "print(\"The length of the string is \", count)"
   ]
  },
  {
   "cell_type": "code",
   "execution_count": 84,
   "id": "feee22b5-a753-487b-a128-57c1d56b52ac",
   "metadata": {},
   "outputs": [
    {
     "name": "stdout",
     "output_type": "stream",
     "text": [
      "the average of the number is 5.5\n"
     ]
    }
   ],
   "source": [
    "#9. Write a program that calculates the average of a list of numbers using a `for` loop.\n",
    "list1 = [1,2,3,4,5,6,7,8,9,10]\n",
    "count = 0\n",
    "sumOfNum = 0\n",
    "for i in list1:\n",
    "    sumOfNum+=i\n",
    "    count+=1\n",
    "if count >0:\n",
    "    average = sumOfNum /count\n",
    "    print(\"the average of the number is\",average)"
   ]
  },
  {
   "cell_type": "code",
   "execution_count": 96,
   "id": "7db9ae1e-3269-4bb5-98cb-bd99a595d3c3",
   "metadata": {},
   "outputs": [
    {
     "name": "stdin",
     "output_type": "stream",
     "text": [
      "enter n 11\n"
     ]
    },
    {
     "name": "stdout",
     "output_type": "stream",
     "text": [
      "The first 11 Fibonacci numbers are:\n",
      "0 1 1 2 3 5 8 13 21 34 55 "
     ]
    }
   ],
   "source": [
    "#10. Develop a program that prints the first `n` Fibonacci numbers using a `for` loop.\n",
    "num = int(input(\"enter n\"))\n",
    "first= 0\n",
    "second =1\n",
    "\n",
    "print(\"The first\", num, \"Fibonacci numbers are:\")\n",
    "for _ in range(num):\n",
    "    print(first, end=\" \")\n",
    "    first, second = second, first + second\n",
    "\n",
    "    \n",
    "    \n",
    "    "
   ]
  },
  {
   "cell_type": "code",
   "execution_count": 11,
   "id": "9793d5ba-a157-462f-953f-653c4f4deaa4",
   "metadata": {},
   "outputs": [
    {
     "name": "stdout",
     "output_type": "stream",
     "text": [
      "The list contains duplicates.\n"
     ]
    }
   ],
   "source": [
    "#11. Write a program to check if a given list contains any duplicates using a `for` loop.\n",
    "my_list = [1, 2, 3, 4, 3, 5, 6]\n",
    "\n",
    "duplicates = False\n",
    "\n",
    "for i in range(len(my_list)):\n",
    "    for j in range(i + 1, len(my_list)):\n",
    "        if my_list[i] == my_list[j]:\n",
    "            duplicates = True\n",
    "            break\n",
    "    if duplicates:\n",
    "        break\n",
    "\n",
    "if duplicates:\n",
    "    print(\"The list contains duplicates.\")\n",
    "else:\n",
    "    print(\"The list does not contain duplicates.\")\n"
   ]
  },
  {
   "cell_type": "code",
   "execution_count": 25,
   "id": "f66fa9ce-c019-4455-a6d5-fc81e2503298",
   "metadata": {},
   "outputs": [
    {
     "name": "stdin",
     "output_type": "stream",
     "text": [
      "enter the range 13\n"
     ]
    },
    {
     "name": "stdout",
     "output_type": "stream",
     "text": [
      "2, 3, 5, 7, 11, 13, "
     ]
    }
   ],
   "source": [
    "#12. Create a program that prints the prime numbers in a given range using a `for` loop.\n",
    "number  =int(input(\"enter the range\"))\n",
    "for i in range(1,number+1):\n",
    "    if i>1:\n",
    "        for x in range(2, i):\n",
    "            if (i % x) == 0:\n",
    "                break\n",
    "        else:\n",
    "            print(i ,end =\", \")"
   ]
  },
  {
   "cell_type": "code",
   "execution_count": 34,
   "id": "f5344244-495f-47a8-bafd-9b4a8e76fd7b",
   "metadata": {},
   "outputs": [
    {
     "name": "stdin",
     "output_type": "stream",
     "text": [
      "enter a string azman khan\n"
     ]
    },
    {
     "name": "stdout",
     "output_type": "stream",
     "text": [
      "3\n"
     ]
    }
   ],
   "source": [
    "#13. Develop a program that counts the number of vowels in a string using a `for` loop.\n",
    "vowel = \"aeiou\"\n",
    "count = 0\n",
    "string = str(input(\"enter a string\"))\n",
    "for i in string:\n",
    "    if i in vowel:\n",
    "        count+=1\n",
    "print(count)\n",
    "    \n"
   ]
  },
  {
   "cell_type": "code",
   "execution_count": 42,
   "id": "dfa2bff2-3cba-4c9c-8c32-0f3dab11fc1d",
   "metadata": {},
   "outputs": [
    {
     "name": "stdout",
     "output_type": "stream",
     "text": [
      "10 was not found in the array.\n"
     ]
    }
   ],
   "source": [
    "#14. Write a program to find the maximum element in a 2D list using a nested `for` loop.\n",
    "def findArr(arr,find):\n",
    "    for i in arr:\n",
    "        for j in i:\n",
    "            if j == find:\n",
    "                return True\n",
    "            else :\n",
    "                return False\n",
    "arr = [[1,2,3],[4,5,6],[7,8,9]]\n",
    "find =10\n",
    "if findArr(arr, find):\n",
    "    print(f\"{find} was found in the array.\")\n",
    "else:\n",
    "    print(f\"{find} was not found in the array.\")"
   ]
  },
  {
   "cell_type": "code",
   "execution_count": 44,
   "id": "6ac76495-d30c-4d74-8581-408b43eff838",
   "metadata": {},
   "outputs": [],
   "source": [
    "#15  Create a program that removes all occurrences of a specific element from a list using a `for` loop."
   ]
  },
  {
   "cell_type": "code",
   "execution_count": 59,
   "id": "58fb68d8-c18c-4eac-9545-405d5f1920c0",
   "metadata": {},
   "outputs": [
    {
     "name": "stdout",
     "output_type": "stream",
     "text": [
      "List after removing all occurrences of 2 is:\n",
      "[1, 3, 4, 5]\n"
     ]
    }
   ],
   "source": [
    "my_list = [1, 2, 3, 2, 4, 2, 5]\n",
    "elementToRemove = 2\n",
    "\n",
    "# Use a for loop to remove all occurrences of the \n",
    "for i in my_list:  # Using a slice to create a copy of the list\n",
    "    if i == elementToRemove:\n",
    "        my_list.remove(i)\n",
    "\n",
    "print(\"List after removing all occurrences of\", elementToRemove, \"is:\")\n",
    "print(my_list)\n"
   ]
  },
  {
   "cell_type": "code",
   "execution_count": 62,
   "id": "7320f351-30ac-444e-8434-ed9009406a2b",
   "metadata": {},
   "outputs": [
    {
     "name": "stdout",
     "output_type": "stream",
     "text": [
      "1 X 1 = 1\n",
      "1 X 2 = 2\n",
      "1 X 3 = 3\n",
      "1 X 4 = 4\n",
      "1 X 5 = 5\n",
      "1 X 6 = 6\n",
      "1 X 7 = 7\n",
      "1 X 8 = 8\n",
      "1 X 9 = 9\n",
      "1 X 10 = 10\n",
      "\n",
      "2 X 1 = 2\n",
      "2 X 2 = 4\n",
      "2 X 3 = 6\n",
      "2 X 4 = 8\n",
      "2 X 5 = 10\n",
      "2 X 6 = 12\n",
      "2 X 7 = 14\n",
      "2 X 8 = 16\n",
      "2 X 9 = 18\n",
      "2 X 10 = 20\n",
      "\n",
      "3 X 1 = 3\n",
      "3 X 2 = 6\n",
      "3 X 3 = 9\n",
      "3 X 4 = 12\n",
      "3 X 5 = 15\n",
      "3 X 6 = 18\n",
      "3 X 7 = 21\n",
      "3 X 8 = 24\n",
      "3 X 9 = 27\n",
      "3 X 10 = 30\n",
      "\n",
      "4 X 1 = 4\n",
      "4 X 2 = 8\n",
      "4 X 3 = 12\n",
      "4 X 4 = 16\n",
      "4 X 5 = 20\n",
      "4 X 6 = 24\n",
      "4 X 7 = 28\n",
      "4 X 8 = 32\n",
      "4 X 9 = 36\n",
      "4 X 10 = 40\n",
      "\n",
      "5 X 1 = 5\n",
      "5 X 2 = 10\n",
      "5 X 3 = 15\n",
      "5 X 4 = 20\n",
      "5 X 5 = 25\n",
      "5 X 6 = 30\n",
      "5 X 7 = 35\n",
      "5 X 8 = 40\n",
      "5 X 9 = 45\n",
      "5 X 10 = 50\n",
      "\n"
     ]
    }
   ],
   "source": [
    "#16. Develop a program that generates a multiplication table for numbers from 1 to 5 using a nested `for` loop.\n",
    "for i in range(1,6):\n",
    "    for j in range(1,11):\n",
    "        mut = i*j\n",
    "        print (f\"{i} X {j} = {mut}\")\n",
    "    print()"
   ]
  },
  {
   "cell_type": "code",
   "execution_count": 1,
   "id": "d02d35f8-3a84-43d6-b70b-8ec63677f932",
   "metadata": {},
   "outputs": [
    {
     "name": "stdout",
     "output_type": "stream",
     "text": [
      "Fahrenheit Temperatures: [32, 68, 86, 104, 212]\n",
      "Celsius Equivalent: [0.0, 20.0, 30.0, 40.0, 100.0]\n"
     ]
    }
   ],
   "source": [
    "#17. Write a program that converts a list of Fahrenheit temperatures to Celsius using a `for` loop.\n",
    "# Define a list of Fahrenheit temperatures\n",
    "fahrenheit_temperatures = [32, 68, 86, 104, 212]\n",
    "\n",
    "# Create an empty list to store the converted Celsius temperatures\n",
    "celsius_temperatures = []\n",
    "\n",
    "# Convert Fahrenheit to Celsius using a for loop\n",
    "for fahrenheit in fahrenheit_temperatures:\n",
    "    celsius = (fahrenheit - 32) * 5/9\n",
    "    celsius_temperatures.append(celsius)\n",
    "\n",
    "# Print the results\n",
    "print(\"Fahrenheit Temperatures:\", fahrenheit_temperatures)\n",
    "print(\"Celsius Equivalent:\", celsius_temperatures)\n",
    "\n"
   ]
  },
  {
   "cell_type": "code",
   "execution_count": 10,
   "id": "5211bf3b-a8bf-4887-854d-f475b9afff48",
   "metadata": {},
   "outputs": [
    {
     "name": "stdout",
     "output_type": "stream",
     "text": [
      "The common element in the list are \n",
      "6\n",
      "7\n"
     ]
    }
   ],
   "source": [
    "#18. Create a program to print the common elements from two lists using a `for` loop.\n",
    "list1 = [1,2,3,4,5,6,7]\n",
    "list2 = [6,7,8,9,11,12,13]\n",
    "print(\"The common element in the list are: \" )\n",
    "\n",
    "for i in  list1:\n",
    "    for j in  list2:\n",
    "        if i == j:\n",
    "            print(i)\n",
    "        else : \n",
    "            continue\n",
    "            "
   ]
  },
  {
   "cell_type": "code",
   "execution_count": 21,
   "id": "87604981-5641-4b4d-a829-bd843d4cbc70",
   "metadata": {},
   "outputs": [
    {
     "name": "stdin",
     "output_type": "stream",
     "text": [
      "enter the size of the row 11\n"
     ]
    },
    {
     "name": "stdout",
     "output_type": "stream",
     "text": [
      "\n",
      "* \n",
      "* * \n",
      "* * * \n",
      "* * * * \n",
      "* * * * * \n",
      "* * * * * * \n",
      "* * * * * * * \n",
      "* * * * * * * * \n",
      "* * * * * * * * * \n",
      "* * * * * * * * * * \n",
      "* * * * * * * * * * * \n"
     ]
    }
   ],
   "source": [
    "#19. Develop a program that prints the pattern of right-angled triangles using a `for` loop. Use ‘*’ to draw the\n",
    "size = int(input(\"enter the size of the row\"))\n",
    "# making a nested for loop\n",
    "for i in range(size+1):\n",
    "    for j in range(i):\n",
    "        print (\"*\" ,end =\" \")\n",
    "# changing the line        \n",
    "    print()\n"
   ]
  },
  {
   "cell_type": "code",
   "execution_count": 3,
   "id": "55d0d34c-9d1c-49a7-ae9c-a7c66505c9bf",
   "metadata": {},
   "outputs": [
    {
     "name": "stdin",
     "output_type": "stream",
     "text": [
      "Enter the first number:  49\n",
      "Enter the second number:  7\n"
     ]
    },
    {
     "name": "stdout",
     "output_type": "stream",
     "text": [
      "The GCD of 49 and 7 is 7\n"
     ]
    }
   ],
   "source": [
    "#20 Write a program to find the greatest common divisor (GCD) of two numbers using a `for` loop.\n",
    "def find_gcd(a, b):\n",
    "    gcd = 1\n",
    "    for i in range(1, min(a, b) + 1):\n",
    "        if a % i == 0 and b % i == 0:\n",
    "            gcd = i\n",
    "    return gcd\n",
    "\n",
    "num1 = int(input(\"Enter the first number: \"))\n",
    "num2 = int(input(\"Enter the second number: \"))\n",
    "\n",
    "# Calculate and print the GCD\n",
    "result = find_gcd(num1, num2)\n",
    "print(\"The GCD of\", num1, \"and\", num2, \"is\", result)\n"
   ]
  },
  {
   "cell_type": "code",
   "execution_count": 1,
   "id": "e84aee74-2090-4859-8604-a637ee27db48",
   "metadata": {},
   "outputs": [
    {
     "name": "stdout",
     "output_type": "stream",
     "text": [
      "hellow\n"
     ]
    }
   ],
   "source": [
    "\n"
   ]
  },
  {
   "cell_type": "code",
   "execution_count": 6,
   "id": "3fda3703-4841-4e88-8d7d-c97b2196b50f",
   "metadata": {},
   "outputs": [
    {
     "name": "stdout",
     "output_type": "stream",
     "text": [
      "Sum of digits in 123 is 6\n",
      "Sum of digits in 45 is 9\n",
      "Sum of digits in 678 is 21\n",
      "Sum of digits in 9 is 9\n"
     ]
    }
   ],
   "source": [
    "#21. Create a program that calculates the sum of the digits of numbers in a list using a list comprehension.\n",
    "# Function to calculate the sum of the digits of a number\n",
    "def sum_of_digits(number):\n",
    "    return sum(int(digit) for digit in str(number) if digit.isdigit())\n",
    "\n",
    "# List of numbers\n",
    "numbers = [123, 45, 678, 9]\n",
    "\n",
    "# Calculate the sum of digits for each number using list comprehension\n",
    "sums = [sum_of_digits(num) for num in numbers]\n",
    "\n",
    "# Print the results\n",
    "for i in range(len(numbers)):\n",
    "    print(f\"Sum of digits in {numbers[i]} is {sums[i]}\")\n"
   ]
  },
  {
   "cell_type": "code",
   "execution_count": 1,
   "id": "b8abfc7d-e9fd-4895-ba4a-d5b1b09c3105",
   "metadata": {},
   "outputs": [
    {
     "name": "stdin",
     "output_type": "stream",
     "text": [
      "Enter a number:  13\n"
     ]
    },
    {
     "name": "stdout",
     "output_type": "stream",
     "text": [
      "Prime factors of 13: [13]\n"
     ]
    }
   ],
   "source": [
    "#22. Write a program to find the prime factors of a given number using a `for` loop and list comprehension.\n",
    "def prime_factors(n):\n",
    "    factors = [i for i in range(2, n + 1) if n % i == 0]\n",
    "    prime_factors = [factor for factor in factors if all(factor % i != 0 for i in range(2, factor))]\n",
    "    return prime_factors\n",
    "\n",
    "# Input a number from the user\n",
    "number = int(input(\"Enter a number: \"))\n",
    "\n",
    "if number < 2:\n",
    "    print(\"Prime factors cannot be determined for numbers less than 2.\")\n",
    "else:\n",
    "    prime_factors_list = prime_factors(number)\n",
    "    print(f\"Prime factors of {number}: {prime_factors_list}\")\n"
   ]
  },
  {
   "cell_type": "code",
   "execution_count": 2,
   "id": "db2e43a2-aab0-4de7-aa08-2c8eeaf1e17e",
   "metadata": {},
   "outputs": [
    {
     "name": "stdout",
     "output_type": "stream",
     "text": [
      "Original List: [1, 2, 2, 3, 4, 4, 5, 6, 6]\n",
      "Unique Elements: [1, 3, 5]\n"
     ]
    }
   ],
   "source": [
    "#23. Develop a program that extracts unique elements from a list and stores them in a new list using a list\n",
    "# Input list with duplicate elements\n",
    "input_list = [1, 2, 2, 3, 4, 4, 5, 6, 6]\n",
    "\n",
    "# Use a list comprehension to extract unique elements\n",
    "unique_elements = [x for x in input_list if input_list.count(x) == 1]\n",
    "\n",
    "# Print the list of unique elements\n",
    "print(\"Original List:\", input_list)\n",
    "print(\"Unique Elements:\", unique_elements)\n"
   ]
  },
  {
   "cell_type": "code",
   "execution_count": 3,
   "id": "bf97f7f4-1c84-429f-a538-a524f8ed0ed1",
   "metadata": {
    "tags": []
   },
   "outputs": [
    {
     "name": "stdin",
     "output_type": "stream",
     "text": [
      "Enter the upper limit:  17\n"
     ]
    },
    {
     "name": "stdout",
     "output_type": "stream",
     "text": [
      "Palindromic Numbers up to 17 are: [1, 2, 3, 4, 5, 6, 7, 8, 9, 11]\n"
     ]
    }
   ],
   "source": [
    "#24. Create a program that generates a list of all palindromic numbers up to a specified limit \n",
    "limit = int(input(\"Enter the upper limit: \"))\n",
    "\n",
    "# Use a list comprehension to generate palindromic numbers\n",
    "palindromic_numbers = [num for num in range(1, limit + 1) if str(num) == str(num)[::-1]]\n",
    "\n",
    "print(\"Palindromic Numbers up to\", limit, \"are:\", palindromic_numbers)\n",
    "\n"
   ]
  },
  {
   "cell_type": "code",
   "execution_count": null,
   "id": "3e088a06-6e65-463d-8dd1-67bec21f5cd8",
   "metadata": {},
   "outputs": [],
   "source": [
    "#25. Write a program to flatten a nested list using list comprehension.\n",
    "nested_list = [[1, 2, 3], [4, 5], [6, 7, 8]]\n",
    "\n",
    "# Flatten the nested list using list comprehension\n",
    "flattened_list = [item for sublist in nested_list for item in sublist]\n",
    "\n",
    "# Print the flattened list\n",
    "print(\"Original Nested List:\")\n",
    "for sublist in nested_list:\n",
    "    print(sublist)\n",
    "\n",
    "print(\"\\nFlattened List:\", flattened_list)\n"
   ]
  },
  {
   "cell_type": "code",
   "execution_count": 1,
   "id": "574f49e9-a33f-4d0b-8d01-3beba3768e84",
   "metadata": {},
   "outputs": [
    {
     "name": "stdout",
     "output_type": "stream",
     "text": [
      "Even numbers: 30\n",
      "Odd numbers: 25\n"
     ]
    }
   ],
   "source": [
    "'''#26.Develop a program that computes the sum of even and odd numbers in a list separately using list\n",
    "comprehension'''\n",
    "\n",
    "def sum_even_and_odd_numbers(numbers):\n",
    "    # Use list comprehensions to separate even and odd numbers\n",
    "    even_numbers = [num for num in numbers if num % 2 == 0]\n",
    "    odd_numbers = [num for num in numbers if num % 2 != 0]\n",
    "\n",
    "    # Calculate the sum of even and odd numbers\n",
    "    sum_even = sum(even_numbers)\n",
    "    sum_odd = sum(odd_numbers)\n",
    "\n",
    "    return sum_even, sum_odd\n",
    "\n",
    "# Example usage:\n",
    "numbers = [1, 2, 3, 4, 5, 6, 7, 8, 9, 10]\n",
    "sum_even, sum_odd = sum_even_and_odd_numbers(numbers)\n",
    "\n",
    "print(\"Even numbers:\", sum_even)\n",
    "print(\"Odd numbers:\", sum_odd)\n"
   ]
  },
  {
   "cell_type": "code",
   "execution_count": 2,
   "id": "eee4a746-41a2-40f7-b8da-64b03b434ae6",
   "metadata": {},
   "outputs": [
    {
     "name": "stdout",
     "output_type": "stream",
     "text": [
      "[1, 9, 25, 49, 81]\n"
     ]
    }
   ],
   "source": [
    "'''27. Create a program that generates a list of squares of odd numbers between 1 and 10 using list\n",
    "comprehension.'''\n",
    "\n",
    "squares_of_odd_numbers = [x**2 for x in range(1, 11) if x % 2 != 0]\n",
    "\n",
    "print(squares_of_odd_numbers)\n"
   ]
  },
  {
   "cell_type": "code",
   "execution_count": 3,
   "id": "9f29252c-46e6-4a38-b84a-363a5b7144f7",
   "metadata": {},
   "outputs": [
    {
     "name": "stdout",
     "output_type": "stream",
     "text": [
      "{'a': 1, 'b': 2, 'c': 3}\n"
     ]
    }
   ],
   "source": [
    "#28. Write a program that combines two lists into a dictionary using list comprehension.\n",
    "keys = ['a', 'b', 'c']\n",
    "values = [1, 2, 3]\n",
    "\n",
    "# Combine the two lists into a dictionary using list comprehension\n",
    "combined_dict = {keys[i]: values[i] for i in range(len(keys))}\n",
    "\n",
    "print(combined_dict)\n"
   ]
  },
  {
   "cell_type": "code",
   "execution_count": 4,
   "id": "ff659f39-4bae-4320-ba59-0318c1624ff8",
   "metadata": {},
   "outputs": [
    {
     "name": "stdout",
     "output_type": "stream",
     "text": [
      "['e', 'o', 'o']\n"
     ]
    }
   ],
   "source": [
    "#29. Develop a program that extracts the vowels from a string and stores them in a list using list comprehension.\n",
    "def extract_vowels(input_string):\n",
    "    vowels = \"aeiouAEIOU\"\n",
    "    vowel_list = [char for char in input_string if char in vowels]\n",
    "    return vowel_list\n",
    "\n",
    "input_string = \"Hello, World!\"\n",
    "vowels_in_string = extract_vowels(input_string)\n",
    "\n",
    "print(vowels_in_string)\n"
   ]
  },
  {
   "cell_type": "code",
   "execution_count": 5,
   "id": "0df0a84b-40b9-478d-a491-c9760614ea51",
   "metadata": {},
   "outputs": [
    {
     "name": "stdout",
     "output_type": "stream",
     "text": [
      "['123', '45', '6789', '10']\n"
     ]
    }
   ],
   "source": [
    "#30. Create a program that removes all non-numeric characters from a list of strings using list comprehension.\n",
    "def remove_non_numeric(strings):\n",
    "    cleaned_strings = [''.join(char for char in string if char.isnumeric()) for string in strings]\n",
    "    return cleaned_strings\n",
    "\n",
    "# Example usage:\n",
    "string_list = [\"abc123\", \"45def\", \"6ghi789\", \"10jkl\"]\n",
    "cleaned_strings = remove_non_numeric(string_list)\n",
    "\n",
    "print(cleaned_strings)\n"
   ]
  },
  {
   "cell_type": "code",
   "execution_count": 1,
   "id": "84278601-d3b1-4cf8-8802-39a57c51a920",
   "metadata": {},
   "outputs": [
    {
     "name": "stdin",
     "output_type": "stream",
     "text": [
      "Enter an upper limit for generating prime numbers:  18\n"
     ]
    },
    {
     "name": "stdout",
     "output_type": "stream",
     "text": [
      "List of prime numbers up to 18 : [2, 3, 5, 7, 11, 13, 17]\n"
     ]
    }
   ],
   "source": [
    "#31. Write a program to generate a list of prime numbers using the Sieve of Eratosthenes algorithm and list\n",
    "def sieve_of_eratosthenes(n):\n",
    "    # Create a boolean list \"is_prime\" and initialize all entries to True\n",
    "    is_prime = [True] * (n + 1)\n",
    "    is_prime[0] = is_prime[1] = False  # 0 and 1 are not prime\n",
    "\n",
    "    # Mark non-prime numbers\n",
    "    for p in range(2, int(n**0.5) + 1):\n",
    "        if is_prime[p]:\n",
    "            for i in range(p * p, n + 1, p):\n",
    "                is_prime[i] = False\n",
    "\n",
    "    # Use list comprehension to generate the list of prime numbers\n",
    "    prime_numbers = [i for i in range(2, n + 1) if is_prime[i]]\n",
    "\n",
    "    return prime_numbers\n",
    "\n",
    "# Input the upper limit for generating prime numbers\n",
    "n = int(input(\"Enter an upper limit for generating prime numbers: \"))\n",
    "\n",
    "prime_list = sieve_of_eratosthenes(n)\n",
    "print(\"List of prime numbers up to\", n, \":\", prime_list)\n"
   ]
  },
  {
   "cell_type": "code",
   "execution_count": 2,
   "id": "3da19e44-11c4-4a73-a4b8-f656f13fb99e",
   "metadata": {},
   "outputs": [
    {
     "name": "stdin",
     "output_type": "stream",
     "text": [
      "Enter a limit for generating Pythagorean triplets:  12\n"
     ]
    },
    {
     "name": "stdout",
     "output_type": "stream",
     "text": [
      "Pythagorean triplets up to 12 are:\n",
      "(3, 4, 5)\n",
      "(6, 8, 10)\n"
     ]
    }
   ],
   "source": [
    "#32. Create a program that generates a list of all Pythagorean triplets up to a specified limit using list\n",
    "def generate_pythagorean_triplets(limit):\n",
    "    triplets = []\n",
    "    for a in range(1, limit):\n",
    "        for b in range(a, limit):\n",
    "            c_square = a**2 + b**2\n",
    "            c = int(c_square**0.5)\n",
    "            if c <= limit and c_square == c**2:\n",
    "                triplets.append((a, b, c))\n",
    "    return triplets\n",
    "\n",
    "# Input the limit for generating Pythagorean triplets\n",
    "limit = int(input(\"Enter a limit for generating Pythagorean triplets: \"))\n",
    "\n",
    "pythagorean_triplets = generate_pythagorean_triplets(limit)\n",
    "print(\"Pythagorean triplets up to\", limit, \"are:\")\n",
    "for triplet in pythagorean_triplets:\n",
    "    print(triplet)\n"
   ]
  },
  {
   "cell_type": "code",
   "execution_count": 3,
   "id": "228b6c4f-053e-4df0-ab6e-338500bf9b17",
   "metadata": {},
   "outputs": [
    {
     "name": "stdin",
     "output_type": "stream",
     "text": [
      "Enter the first list (comma-separated values):  azmankhan\n",
      "Enter the second list (comma-separated values):  pwskills\n"
     ]
    },
    {
     "name": "stdout",
     "output_type": "stream",
     "text": [
      "All possible combinations of the two lists are:\n",
      "('azmankhan', 'pwskills')\n"
     ]
    }
   ],
   "source": [
    "#33. Develop a program that generates a list of all possible combinations of two lists using list comprehension.\n",
    "# Input two lists\n",
    "list1 = input(\"Enter the first list (comma-separated values): \").split(',')\n",
    "list2 = input(\"Enter the second list (comma-separated values): \").split(',')\n",
    "\n",
    "# Use list comprehension to generate all combinations\n",
    "combinations = [(item1, item2) for item1 in list1 for item2 in list2]\n",
    "\n",
    "print(\"All possible combinations of the two lists are:\")\n",
    "for combination in combinations:\n",
    "    print(combination)\n"
   ]
  },
  {
   "cell_type": "code",
   "execution_count": 5,
   "id": "06f3f689-11a9-480a-bfde-c321566bdd15",
   "metadata": {},
   "outputs": [
    {
     "name": "stdin",
     "output_type": "stream",
     "text": [
      "Enter a list of numbers (comma-separated values):  1,2,3,4,5,6,7,8,9,10,11,12,13,14,15,16\n"
     ]
    },
    {
     "name": "stdout",
     "output_type": "stream",
     "text": [
      "The mean is 8.5.\n",
      "The median is 8.5.\n",
      "The mode is 1.0.\n"
     ]
    }
   ],
   "source": [
    "'''#34. Write a program that calculates the mean, median, and mode of a list of numbers using list\n",
    "comprehension.'''\n",
    "from statistics import mean, median, mode\n",
    "\n",
    "# Input a list of numbers\n",
    "numbers = [float(x) for x in input(\"Enter a list of numbers (comma-separated values): \").split(',')]\n",
    "\n",
    "# Calculate the mean, median, and mode using built-in functions\n",
    "mean_value = mean(numbers)\n",
    "median_value = median(numbers)\n",
    "\n",
    "try:\n",
    "    mode_value = mode(numbers)\n",
    "except StatisticsError:\n",
    "    mode_result = \"There is no unique mode in the given data.\"\n",
    "\n",
    "print(f\"The mean is {mean_value}.\")\n",
    "print(f\"The median is {median_value}.\")\n",
    "print(f\"The mode is {mode_value}.\")\n"
   ]
  },
  {
   "cell_type": "code",
   "execution_count": 1,
   "id": "b273a50b-7293-4131-89c1-7fd18f06f68a",
   "metadata": {},
   "outputs": [
    {
     "name": "stdin",
     "output_type": "stream",
     "text": [
      "Enter the number of rows for Pascal's triangle:  6\n"
     ]
    },
    {
     "name": "stdout",
     "output_type": "stream",
     "text": [
      "      1      \n",
      "     1 1     \n",
      "    1 2 1    \n",
      "   1 3 3 1   \n",
      "  1 4 6 4 1  \n",
      "1 5 10 10 5 1\n"
     ]
    }
   ],
   "source": [
    "'''35. Create a program that generates Pascal's triangle up to a specified number of rows using list\n",
    "comprehension.'''\n",
    "def generate_pascals_triangle(n):\n",
    "    if n <= 0:\n",
    "        return []\n",
    "\n",
    "    triangle = [[1]]\n",
    "    for i in range(1, n):\n",
    "        row = [1] + [row[j] + row[j + 1] for j in range(i - 1)] + [1]\n",
    "        triangle.append(row)\n",
    "\n",
    "    return triangle\n",
    "\n",
    "# Input the number of rows for Pascal's triangle\n",
    "num_rows = int(input(\"Enter the number of rows for Pascal's triangle: \"))\n",
    "\n",
    "pascals_triangle = generate_pascals_triangle(num_rows)\n",
    "\n",
    "max_width = len(\" \".join(map(str, pascals_triangle[-1])))\n",
    "for row in pascals_triangle:\n",
    "    row_str = \" \".join(map(str, row))\n",
    "    print(row_str.center(max_width))\n",
    "\n"
   ]
  },
  {
   "cell_type": "code",
   "execution_count": 3,
   "id": "ddee7583-add5-4f8e-928e-feefec80addf",
   "metadata": {},
   "outputs": [
    {
     "name": "stdout",
     "output_type": "stream",
     "text": [
      "[1, 2, 6, 6, 3]\n"
     ]
    }
   ],
   "source": [
    "'''#36. Develop a program that calculates the sum of the digits of a factorial of numbers from 1 to 5 using list\n",
    "comprehension.'''\n",
    "# Define a function to calculate the factorial of a number\n",
    "def factorial(n):\n",
    "  if n == 0 or n == 1:\n",
    "    return 1\n",
    "  else:\n",
    "    return n * factorial(n-1)\n",
    "\n",
    "# Use list comprehension to generate a list of factorials from 1 to 5\n",
    "factorials = [factorial(i) for i in range(1, 6)]\n",
    "\n",
    "# Use another list comprehension to calculate the sum of digits of each factorial\n",
    "sum_of_digits = [sum(int(digit) for digit in str(f)) for f in factorials]\n",
    "\n",
    "# Print the result\n",
    "print(sum_of_digits)\n",
    "\n"
   ]
  },
  {
   "cell_type": "code",
   "execution_count": 9,
   "id": "406a13e0-6280-4a95-8791-080a240decc0",
   "metadata": {},
   "outputs": [
    {
     "name": "stdout",
     "output_type": "stream",
     "text": [
      "The longest word in the sentence is: longest\n"
     ]
    }
   ],
   "source": [
    "'''37. Write a program that finds the longest word in a sentence using list comprehension.'''\n",
    "def find_longest_word(sentence):\n",
    "  # Split the sentence into a list of words\n",
    "  words = sentence.split()\n",
    "  # Use list comprehension to create a new list of string lengths\n",
    "  lengths = [len(word) for word in words]\n",
    "  # Find the index of the longest word\n",
    "  index = lengths.index(max(lengths))\n",
    "    \n",
    "  return words[index]\n",
    "\n",
    "sentence = \"Find the longest word in this\"\n",
    "longest_word = find_longest_word(sentence)\n",
    "print(\"The longest word in the sentence is:\", longest_word)\n"
   ]
  },
  {
   "cell_type": "code",
   "execution_count": 15,
   "id": "4bc09c6e-9266-4b66-953a-34720833e2fa",
   "metadata": {},
   "outputs": [
    {
     "name": "stdout",
     "output_type": "stream",
     "text": [
      "watermelon\n"
     ]
    }
   ],
   "source": [
    "#38 Create a program that filters a list of strings to include only those with more than three vowels using list\n",
    "\n",
    "\n",
    "def count_vowels(s):\n",
    "    vowels = \"AEIOUaeiou\"\n",
    "    return sum(1 for char in s if char in vowels)\n",
    "\n",
    "# List of strings\n",
    "strings = [\"apple\", \"banana\", \"orange\", \"grape\", \"watermelon\"]\n",
    "\n",
    "# Filter the list to include only strings with more than three vowels\n",
    "filtered_strings = [string for string in strings if count_vowels(string) > 3]\n",
    "\n",
    "\n",
    "print(string)\n",
    "\n"
   ]
  },
  {
   "cell_type": "code",
   "execution_count": 16,
   "id": "ae46233a-bbb7-419f-972c-0c21ae5eec13",
   "metadata": {},
   "outputs": [
    {
     "name": "stdout",
     "output_type": "stream",
     "text": [
      "[1, 2, 3, 4, 5, 6, 7, 8, 9, 1, 2, 3, 4, 5, 6, 7, 8, 9, 10, 2, 3, 4, 5, 6, 7, 8, 9, 10, 11, 3, 4, 5, 6, 7, 8, 9, 10, 11, 12, 4, 5, 6, 7, 8, 9, 10, 11, 12, 13, 5, 6, 7, 8, 9, 10, 11, 12, 13, 14, 6, 7, 8, 9, 10, 11, 12, 13, 14, 15, 7, 8, 9, 10, 11, 12, 13, 14, 15, 16, 8, 9, 10, 11, 12, 13, 14, 15, 16, 17, 9, 10, 11, 12, 13, 14, 15, 16, 17, 18, 1, 2, 3, 4, 5, 6, 7, 8, 9, 10, 2, 3, 4, 5, 6, 7, 8, 9, 10, 11, 3, 4, 5, 6, 7, 8, 9, 10, 11, 12, 4, 5, 6, 7, 8, 9, 10, 11, 12, 13, 5, 6, 7, 8, 9, 10, 11, 12, 13, 14, 6, 7, 8, 9, 10, 11, 12, 13, 14, 15, 7, 8, 9, 10, 11, 12, 13, 14, 15, 16, 8, 9, 10, 11, 12, 13, 14, 15, 16, 17, 9, 10, 11, 12, 13, 14, 15, 16, 17, 18, 10, 11, 12, 13, 14, 15, 16, 17, 18, 19, 2, 3, 4, 5, 6, 7, 8, 9, 10, 11, 3, 4, 5, 6, 7, 8, 9, 10, 11, 12, 4, 5, 6, 7, 8, 9, 10, 11, 12, 13, 5, 6, 7, 8, 9, 10, 11, 12, 13, 14, 6, 7, 8, 9, 10, 11, 12, 13, 14, 15, 7, 8, 9, 10, 11, 12, 13, 14, 15, 16, 8, 9, 10, 11, 12, 13, 14, 15, 16, 17, 9, 10, 11, 12, 13, 14, 15, 16, 17, 18, 10, 11, 12, 13, 14, 15, 16, 17, 18, 19, 11, 12, 13, 14, 15, 16, 17, 18, 19, 20, 3, 4, 5, 6, 7, 8, 9, 10, 11, 12, 4, 5, 6, 7, 8, 9, 10, 11, 12, 13, 5, 6, 7, 8, 9, 10, 11, 12, 13, 14, 6, 7, 8, 9, 10, 11, 12, 13, 14, 15, 7, 8, 9, 10, 11, 12, 13, 14, 15, 16, 8, 9, 10, 11, 12, 13, 14, 15, 16, 17, 9, 10, 11, 12, 13, 14, 15, 16, 17, 18, 10, 11, 12, 13, 14, 15, 16, 17, 18, 19, 11, 12, 13, 14, 15, 16, 17, 18, 19, 20, 12, 13, 14, 15, 16, 17, 18, 19, 20, 21, 4, 5, 6, 7, 8, 9, 10, 11, 12, 13, 5, 6, 7, 8, 9, 10, 11, 12, 13, 14, 6, 7, 8, 9, 10, 11, 12, 13, 14, 15, 7, 8, 9, 10, 11, 12, 13, 14, 15, 16, 8, 9, 10, 11, 12, 13, 14, 15, 16, 17, 9, 10, 11, 12, 13, 14, 15, 16, 17, 18, 10, 11, 12, 13, 14, 15, 16, 17, 18, 19, 11, 12, 13, 14, 15, 16, 17, 18, 19, 20, 12, 13, 14, 15, 16, 17, 18, 19, 20, 21, 13, 14, 15, 16, 17, 18, 19, 20, 21, 22, 5, 6, 7, 8, 9, 10, 11, 12, 13, 14, 6, 7, 8, 9, 10, 11, 12, 13, 14, 15, 7, 8, 9, 10, 11, 12, 13, 14, 15, 16, 8, 9, 10, 11, 12, 13, 14, 15, 16, 17, 9, 10, 11, 12, 13, 14, 15, 16, 17, 18, 10, 11, 12, 13, 14, 15, 16, 17, 18, 19, 11, 12, 13, 14, 15, 16, 17, 18, 19, 20, 12, 13, 14, 15, 16, 17, 18, 19, 20, 21, 13, 14, 15, 16, 17, 18, 19, 20, 21, 22, 14, 15, 16, 17, 18, 19, 20, 21, 22, 23, 6, 7, 8, 9, 10, 11, 12, 13, 14, 15, 7, 8, 9, 10, 11, 12, 13, 14, 15, 16, 8, 9, 10, 11, 12, 13, 14, 15, 16, 17, 9, 10, 11, 12, 13, 14, 15, 16, 17, 18, 10, 11, 12, 13, 14, 15, 16, 17, 18, 19, 11, 12, 13, 14, 15, 16, 17, 18, 19, 20, 12, 13, 14, 15, 16, 17, 18, 19, 20, 21, 13, 14, 15, 16, 17, 18, 19, 20, 21, 22, 14, 15, 16, 17, 18, 19, 20, 21, 22, 23, 15, 16, 17, 18, 19, 20, 21, 22, 23, 24, 7, 8, 9, 10, 11, 12, 13, 14, 15, 16, 8, 9, 10, 11, 12, 13, 14, 15, 16, 17, 9, 10, 11, 12, 13, 14, 15, 16, 17, 18, 10, 11, 12, 13, 14, 15, 16, 17, 18, 19, 11, 12, 13, 14, 15, 16, 17, 18, 19, 20, 12, 13, 14, 15, 16, 17, 18, 19, 20, 21, 13, 14, 15, 16, 17, 18, 19, 20, 21, 22, 14, 15, 16, 17, 18, 19, 20, 21, 22, 23, 15, 16, 17, 18, 19, 20, 21, 22, 23, 24, 16, 17, 18, 19, 20, 21, 22, 23, 24, 25, 8, 9, 10, 11, 12, 13, 14, 15, 16, 17, 9, 10, 11, 12, 13, 14, 15, 16, 17, 18, 10, 11, 12, 13, 14, 15, 16, 17, 18, 19, 11, 12, 13, 14, 15, 16, 17, 18, 19, 20, 12, 13, 14, 15, 16, 17, 18, 19, 20, 21, 13, 14, 15, 16, 17, 18, 19, 20, 21, 22, 14, 15, 16, 17, 18, 19, 20, 21, 22, 23, 15, 16, 17, 18, 19, 20, 21, 22, 23, 24, 16, 17, 18, 19, 20, 21, 22, 23, 24, 25, 17, 18, 19, 20, 21, 22, 23, 24, 25, 26, 9, 10, 11, 12, 13, 14, 15, 16, 17, 18, 10, 11, 12, 13, 14, 15, 16, 17, 18, 19, 11, 12, 13, 14, 15, 16, 17, 18, 19, 20, 12, 13, 14, 15, 16, 17, 18, 19, 20, 21, 13, 14, 15, 16, 17, 18, 19, 20, 21, 22, 14, 15, 16, 17, 18, 19, 20, 21, 22, 23, 15, 16, 17, 18, 19, 20, 21, 22, 23, 24, 16, 17, 18, 19, 20, 21, 22, 23, 24, 25, 17, 18, 19, 20, 21, 22, 23, 24, 25, 26, 18, 19, 20, 21, 22, 23, 24, 25, 26, 27, 1]\n"
     ]
    }
   ],
   "source": [
    "'''#39. Develop a program that calculates the sum of the digits of numbers from 1 to 1000 using list\n",
    "comprehension'''\n",
    "# Use list comprehension to generate a list of numbers from 1 to 1000\n",
    "numbers = [i for i in range(1, 1001)]\n",
    "\n",
    "# Use another list comprehension to calculate the sum of digits of each number\n",
    "sum_of_digits = [sum(int(digit) for digit in str(n)) for n in numbers]\n",
    "\n",
    "# Print the result\n",
    "print(sum_of_digits)\n"
   ]
  },
  {
   "cell_type": "code",
   "execution_count": 21,
   "id": "f73ef487-63a4-43e1-ab45-f39dbe907036",
   "metadata": {},
   "outputs": [
    {
     "name": "stdout",
     "output_type": "stream",
     "text": [
      "[2, 3, 5, 7, 11, 101, 131, 151, 181, 191, 313, 353, 373, 383, 727, 757, 787, 797, 919, 929]\n"
     ]
    }
   ],
   "source": [
    "#40. Write a program that generates a list of prime palindromic numbers using list comprehension.\n",
    "\n",
    "def is_prime(n):\n",
    "    if n <= 1:\n",
    "        return False\n",
    "    if n <= 3:\n",
    "        return True\n",
    "    if n % 2 == 0 or n % 3 == 0:\n",
    "        return False\n",
    "    i = 5\n",
    "    while i * i <= n:\n",
    "        if n % i == 0 or n % (i + 2) == 0:\n",
    "            return False\n",
    "        i += 6\n",
    "    return True\n",
    "\n",
    "# List comprehension to generate prime palindromic numbers\n",
    "prime_palindromic_numbers = [n for n in range(1, 1000) if is_prime(n) and str(n) == str(n)[::-1]]\n",
    "\n",
    "# Print the list of prime palindromic numbers\n",
    "print(prime_palindromic_numbers)\n",
    "\n"
   ]
  },
  {
   "cell_type": "code",
   "execution_count": null,
   "id": "d189b7a4-c8fd-474c-b355-b5ba28b2ca4a",
   "metadata": {},
   "outputs": [],
   "source": []
  }
 ],
 "metadata": {
  "kernelspec": {
   "display_name": "Python 3 (ipykernel)",
   "language": "python",
   "name": "python3"
  },
  "language_info": {
   "codemirror_mode": {
    "name": "ipython",
    "version": 3
   },
   "file_extension": ".py",
   "mimetype": "text/x-python",
   "name": "python",
   "nbconvert_exporter": "python",
   "pygments_lexer": "ipython3",
   "version": "3.10.8"
  }
 },
 "nbformat": 4,
 "nbformat_minor": 5
}
